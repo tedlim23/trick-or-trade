{
 "cells": [
  {
   "cell_type": "code",
   "execution_count": 1,
   "metadata": {},
   "outputs": [],
   "source": [
    "import os\n",
    "import numpy as np\n",
    "import pandas as pd\n",
    "import multiprocessing as mp\n",
    "import lightgbm as lgb\n",
    "\n",
    "from features import data_features_new as feat, feature_selection\n",
    "from tqdm import tqdm\n",
    "from sklearn.metrics import roc_auc_score, accuracy_score, f1_score, precision_score, recall_score, confusion_matrix\n",
    "\n",
    "# feature selection\n",
    "import eli5\n",
    "from sklearn.feature_selection import RFE, RFECV, SelectFromModel\n",
    "from eli5.sklearn import PermutationImportance\n",
    "from lightgbm import plot_importance\n"
   ]
  },
  {
   "cell_type": "code",
   "execution_count": 2,
   "metadata": {},
   "outputs": [],
   "source": [
    "DATA_PATH = './data'  # data csv file 이 있는 경로 기입\n",
    "DATA_FILE_LIST = os.listdir(DATA_PATH)"
   ]
  },
  {
   "cell_type": "code",
   "execution_count": 3,
   "metadata": {},
   "outputs": [
    {
     "data": {
      "text/plain": [
       "['iqr_feat_crypto.pkl',\n",
       " 'scaled_m5_r20.pkl',\n",
       " 'total_feat_crypto.pkl',\n",
       " 'upbit_min_data_KRW-ADA_20210320_20220324.csv',\n",
       " 'upbit_min_data_KRW-AERGO_20210122_20220324.csv',\n",
       " 'upbit_min_data_KRW-AHT_20201227_20220324.csv',\n",
       " 'upbit_min_data_KRW-ALL.pkl',\n",
       " 'upbit_min_data_KRW-ANKR_20210131_20220324.csv',\n",
       " 'upbit_min_data_KRW-ARDR_20201228_20220324.csv',\n",
       " 'upbit_min_data_KRW-ARK_20210103_20220324.csv',\n",
       " 'upbit_min_data_KRW-ATOM_20210309_20220324.csv',\n",
       " 'upbit_min_data_KRW-BAT_20210208_20220324.csv',\n",
       " 'upbit_min_data_KRW-BCH_20210228_20220324.csv',\n",
       " 'upbit_min_data_KRW-BORA_20210309_20220324.csv',\n",
       " 'upbit_min_data_KRW-BSV_20210130_20220324.csv',\n",
       " 'upbit_min_data_KRW-BTC_20210322_20220324.csv',\n",
       " 'upbit_min_data_KRW-BTG_20210223_20220324.csv',\n",
       " 'upbit_min_data_KRW-BTT_20210314_20220324.csv',\n",
       " 'upbit_min_data_KRW-CHZ_20210303_20220324.csv',\n",
       " 'upbit_min_data_KRW-CRE_20210207_20220324.csv',\n",
       " 'upbit_min_data_KRW-CVC_20210201_20220324.csv',\n",
       " 'upbit_min_data_KRW-DKA_20210129_20220324.csv',\n",
       " 'upbit_min_data_KRW-ELF_20210123_20220324.csv',\n",
       " 'upbit_min_data_KRW-ENJ_20210223_20220324.csv',\n",
       " 'upbit_min_data_KRW-EOS_20210318_20220324.csv',\n",
       " 'upbit_min_data_KRW-ETC_20210320_20220324.csv',\n",
       " 'upbit_min_data_KRW-ETH_20210322_20220324.csv',\n",
       " 'upbit_min_data_KRW-GAS_20210211_20220324.csv',\n",
       " 'upbit_min_data_KRW-GRS_20210103_20220324.csv',\n",
       " 'upbit_min_data_KRW-HBAR_20210211_20220324.csv',\n",
       " 'upbit_min_data_KRW-HIVE_20210217_20220324.csv',\n",
       " 'upbit_min_data_KRW-ICX_20210214_20220324.csv',\n",
       " 'upbit_min_data_KRW-IOST_20210113_20220324.csv',\n",
       " 'upbit_min_data_KRW-IOTA_20201106_20220324.csv',\n",
       " 'upbit_min_data_KRW-IQ_20201231_20220324.csv',\n",
       " 'upbit_min_data_KRW-KAVA_20210130_20220324.csv',\n",
       " 'upbit_min_data_KRW-KNC_20210126_20220324.csv',\n",
       " 'upbit_min_data_KRW-LINK_20210317_20220324.csv',\n",
       " 'upbit_min_data_KRW-LOOM_20210115_20220324.csv',\n",
       " 'upbit_min_data_KRW-LSK_20210117_20220324.csv',\n",
       " 'upbit_min_data_KRW-LTC_20210228_20220324.csv',\n",
       " 'upbit_min_data_KRW-MANA_20210317_20220324.csv',\n",
       " 'upbit_min_data_KRW-MBL_20210209_20220324.csv',\n",
       " 'upbit_min_data_KRW-MED_20210303_20220324.csv',\n",
       " 'upbit_min_data_KRW-MFT_20210120_20220324.csv',\n",
       " 'upbit_min_data_KRW-MLK_20210305_20220324.csv',\n",
       " 'upbit_min_data_KRW-MOC_20210130_20220324.csv',\n",
       " 'upbit_min_data_KRW-MTL_20210208_20220324.csv',\n",
       " 'upbit_min_data_KRW-NEO_20210306_20220324.csv',\n",
       " 'upbit_min_data_KRW-OMG_20210303_20220324.csv',\n",
       " 'upbit_min_data_KRW-ONG_20210213_20220324.csv',\n",
       " 'upbit_min_data_KRW-ONT_20210205_20220324.csv',\n",
       " 'upbit_min_data_KRW-ORBS_20210111_20220324.csv',\n",
       " 'upbit_min_data_KRW-POLY_20210204_20220324.csv',\n",
       " 'upbit_min_data_KRW-POWR_20210210_20220324.csv',\n",
       " 'upbit_min_data_KRW-QKC_20201223_20220324.csv',\n",
       " 'upbit_min_data_KRW-QTUM_20210312_20220324.csv',\n",
       " 'upbit_min_data_KRW-REP_20210106_20220324.csv',\n",
       " 'upbit_min_data_KRW-RFR_20210111_20220324.csv',\n",
       " 'upbit_min_data_KRW-SBD_20210104_20220324.csv',\n",
       " 'upbit_min_data_KRW-SC_20210208_20220324.csv',\n",
       " 'upbit_min_data_KRW-SNT_20210216_20220324.csv',\n",
       " 'upbit_min_data_KRW-STEEM_20210125_20220324.csv',\n",
       " 'upbit_min_data_KRW-STMX_20210124_20220324.csv',\n",
       " 'upbit_min_data_KRW-STORJ_20210130_20220324.csv',\n",
       " 'upbit_min_data_KRW-STPT_20210126_20220324.csv',\n",
       " 'upbit_min_data_KRW-TFUEL_20210222_20220324.csv',\n",
       " 'upbit_min_data_KRW-THETA_20210215_20220324.csv',\n",
       " 'upbit_min_data_KRW-TRX_20210318_20220324.csv',\n",
       " 'upbit_min_data_KRW-TT_20210116_20220324.csv',\n",
       " 'upbit_min_data_KRW-UPP_20210102_20220324.csv',\n",
       " 'upbit_min_data_KRW-VET_20210316_20220324.csv',\n",
       " 'upbit_min_data_KRW-WAVES_20210226_20220324.csv',\n",
       " 'upbit_min_data_KRW-WAXP_20210206_20220324.csv',\n",
       " 'upbit_min_data_KRW-XEM_20210203_20220324.csv',\n",
       " 'upbit_min_data_KRW-XLM_20210310_20220324.csv',\n",
       " 'upbit_min_data_KRW-XRP_20210322_20220324.csv',\n",
       " 'upbit_min_data_KRW-XTZ_20210304_20220324.csv',\n",
       " 'upbit_min_data_KRW-ZIL_20210131_20220324.csv',\n",
       " 'upbit_min_data_KRW-ZRX_20210108_20220324.csv']"
      ]
     },
     "execution_count": 3,
     "metadata": {},
     "output_type": "execute_result"
    }
   ],
   "source": [
    "DATA_FILE_LIST"
   ]
  },
  {
   "cell_type": "code",
   "execution_count": 4,
   "metadata": {},
   "outputs": [],
   "source": [
    "def concat_data(data_path):\n",
    "    # 분산 저장된 분봉 데이터를 순차적으로 로드하여, DataFrame 으로 합침\n",
    "    df_tmp = pd.DataFrame()\n",
    "    for path in tqdm(data_path):\n",
    "        if path.endswith('.csv'):\n",
    "            file_path = os.path.join(DATA_PATH, path)\n",
    "            df_tmp = pd.concat([df_tmp, pd.read_csv(file_path)])\n",
    "    return df_tmp"
   ]
  },
  {
   "cell_type": "code",
   "execution_count": 5,
   "metadata": {},
   "outputs": [],
   "source": [
    "# windsering, IQR 함수\n",
    "def cal_iqr(series: pd.Series):\n",
    "    tmp = series.copy()\n",
    "    \n",
    "    # 데이터의 4분위중 1, 4분위값을 탐색\n",
    "    Q1 = tmp.quantile(0.25)\n",
    "    Q3 = tmp.quantile(0.75)\n",
    "    \n",
    "    # 1, 4분위값의 차이, Inter Quantile Range IQR을 산출\n",
    "    iqr = Q3 - Q1\n",
    "    \n",
    "    # 이상치의 제한값을 iqr의 1.5배로 설정\n",
    "    outlier_step = 1.5 * iqr\n",
    "    \n",
    "    # 이상치의 제한값을 넘어서는 이상치들을 제한값으로 한정\n",
    "    lower_bound = tmp < Q1 - outlier_step\n",
    "    upper_bound = tmp > Q3 + outlier_step\n",
    "    tmp[lower_bound] = Q1 - outlier_step\n",
    "    tmp[upper_bound] = Q3 + outlier_step\n",
    "    \n",
    "    return tmp"
   ]
  },
  {
   "cell_type": "code",
   "execution_count": 78,
   "metadata": {},
   "outputs": [],
   "source": [
    "def result_dataframe(clf, X_train, X_test, y_train, y_test, features=[]):\n",
    "    # dataset\n",
    "    if features:\n",
    "        X_train = X_train[features]\n",
    "        X_test = X_test[features]\n",
    "    \n",
    "    # result\n",
    "    result = []\n",
    "    for x, y in zip([X_train, X_test], [y_train, y_test]):\n",
    "        y_pred = clf.predict(x)\n",
    "        y_true = y.values\n",
    "        \n",
    "        acc = accuracy_score(y_true, y_pred)\n",
    "        pre = precision_score(y_true, y_pred)\n",
    "        rec = recall_score(y_true, y_pred)\n",
    "        f1 = f1_score(y_true, y_pred)\n",
    "        roc = roc_auc_score(y_true, y_pred)\n",
    "\n",
    "        result.append([acc, pre, rec, f1, roc])\n",
    "        \n",
    "    df_result = pd.DataFrame(result)\n",
    "    df_result.index = [\"train\", \"test\"]\n",
    "    df_result.columns = [\"accuracy\", \"precision\", \"recall\", \"f1\", \"roc\"]\n",
    "    \n",
    "    return df_result"
   ]
  },
  {
   "cell_type": "code",
   "execution_count": 40,
   "metadata": {},
   "outputs": [],
   "source": [
    "def rolling_cook_dataset(df: pd.DataFrame, ticker_list: list=None, n: int=5, window: int=20, is_cross: bool=False):\n",
    "    if ticker_list is None:\n",
    "        ticker_list = df['ticker'].drop_duplicates().to_list()\n",
    "    tmp_df = df.copy(deep=True)\n",
    "    tmp_df['median'] = (tmp_df['high'] + tmp_df['low']) * 0.5\n",
    "    drop_cols = ['open', 'high', 'low', 'close', 'volume', 'ticker', 'median']\n",
    "    \n",
    "    df_ticker_all, df_target_all = pd.DataFrame(), pd.DataFrame()\n",
    "    last_no_samples = 0\n",
    "    for ticker in tqdm(ticker_list):\n",
    "        ticker_df = tmp_df[df['ticker']==ticker]\n",
    "        sub_df = ticker_df.drop(columns=drop_cols)\n",
    "        sub_arr = sub_df.values\n",
    "        sub_cols = sub_df.columns\n",
    "        tmp_target = (ticker_df['median'].shift(-n) - ticker_df['median']).apply(lambda x: 1 if x > 0 else 0)       \n",
    "        \n",
    "        if is_cross:\n",
    "            num_split = len(sub_arr) // window\n",
    "            split_arr = np.array_split(sub_arr, num_split)\n",
    "          \n",
    "            for idx, arr_ in enumerate(split_arr):\n",
    "                df_subset = pd.DataFrame(arr_, columns=sub_cols)\n",
    "                df_subset['no_samples'] = idx\n",
    "                \n",
    "                if len(arr_) == window:\n",
    "                    df_ticker_all = pd.concat([df_ticker_all, df_subset], ignore_index=True)\n",
    "                elif len(arr_) > window:\n",
    "                    df_ticker_all = pd.concat([df_ticker_all, df_subset.iloc[:window]], ignore_index=True)\n",
    "                else:\n",
    "                    print(f'insufficient length {arr_.shape[0]} x {arr_.shape[1]}')\n",
    "            \n",
    "            df_target_all = pd.concat([df_target_all, tmp_target.iloc[:len(df_ticker_all)]], ignore_index=True)\n",
    "        else:\n",
    "            for i in range(len(sub_arr) - window + 1):\n",
    "                df_subset = pd.DataFrame(sub_arr[i:i+window], columns=sub_cols)\n",
    "                df_subset['no_samples'] = i + last_no_samples\n",
    "                if last_no_samples > 0 :\n",
    "                    df_subset['no_samples'] += 1 # 임의의 한 코인 Data 재구성이 끝난 후, 새 코인이 시작될 때 샘플수 카운팅이 직전값과 동일하지 않게, 1 을 더해줌.\n",
    "                df_subset['ticker'] = ticker\n",
    "                df_ticker_all = pd.concat([df_ticker_all, df_subset], ignore_index=True)\n",
    "            \n",
    "            reset_target = tmp_target.iloc[window-1:].reset_index()\n",
    "            reset_target['ticker'] = ticker\n",
    "            df_target_all = pd.concat([df_target_all, reset_target], ignore_index=True)\n",
    "        last_no_samples = df_ticker_all['no_samples'].iloc[-1]\n",
    "        \n",
    "    return df_ticker_all, df_target_all\n"
   ]
  },
  {
   "cell_type": "code",
   "execution_count": 13,
   "metadata": {},
   "outputs": [
    {
     "name": "stderr",
     "output_type": "stream",
     "text": [
      "100%|██████████| 5/5 [00:02<00:00,  2.29it/s]\n"
     ]
    }
   ],
   "source": [
    "df_raw = concat_data(DATA_FILE_LIST[:5])  "
   ]
  },
  {
   "cell_type": "code",
   "execution_count": 14,
   "metadata": {},
   "outputs": [
    {
     "data": {
      "text/html": [
       "<div>\n",
       "<style scoped>\n",
       "    .dataframe tbody tr th:only-of-type {\n",
       "        vertical-align: middle;\n",
       "    }\n",
       "\n",
       "    .dataframe tbody tr th {\n",
       "        vertical-align: top;\n",
       "    }\n",
       "\n",
       "    .dataframe thead th {\n",
       "        text-align: right;\n",
       "    }\n",
       "</style>\n",
       "<table border=\"1\" class=\"dataframe\">\n",
       "  <thead>\n",
       "    <tr style=\"text-align: right;\">\n",
       "      <th></th>\n",
       "      <th>candle_date_time_utc</th>\n",
       "      <th>market</th>\n",
       "      <th>candle_date_time_utc.1</th>\n",
       "      <th>candle_date_time_kst</th>\n",
       "      <th>opening_price</th>\n",
       "      <th>high_price</th>\n",
       "      <th>low_price</th>\n",
       "      <th>trade_price</th>\n",
       "      <th>timestamp</th>\n",
       "      <th>candle_acc_trade_price</th>\n",
       "      <th>candle_acc_trade_volume</th>\n",
       "      <th>unit</th>\n",
       "    </tr>\n",
       "  </thead>\n",
       "  <tbody>\n",
       "    <tr>\n",
       "      <th>0</th>\n",
       "      <td>2021-03-20 13:10:00</td>\n",
       "      <td>KRW-ADA</td>\n",
       "      <td>2021-03-20T13:10:00</td>\n",
       "      <td>2021-03-20T22:10:00</td>\n",
       "      <td>1480.0</td>\n",
       "      <td>1480.0</td>\n",
       "      <td>1475.0</td>\n",
       "      <td>1480.0</td>\n",
       "      <td>1616245853420</td>\n",
       "      <td>3.897286e+07</td>\n",
       "      <td>26343.438848</td>\n",
       "      <td>1</td>\n",
       "    </tr>\n",
       "    <tr>\n",
       "      <th>1</th>\n",
       "      <td>2021-03-20 13:11:00</td>\n",
       "      <td>KRW-ADA</td>\n",
       "      <td>2021-03-20T13:11:00</td>\n",
       "      <td>2021-03-20T22:11:00</td>\n",
       "      <td>1480.0</td>\n",
       "      <td>1480.0</td>\n",
       "      <td>1475.0</td>\n",
       "      <td>1480.0</td>\n",
       "      <td>1616245920120</td>\n",
       "      <td>4.011098e+07</td>\n",
       "      <td>27140.699591</td>\n",
       "      <td>1</td>\n",
       "    </tr>\n",
       "    <tr>\n",
       "      <th>2</th>\n",
       "      <td>2021-03-20 13:12:00</td>\n",
       "      <td>KRW-ADA</td>\n",
       "      <td>2021-03-20T13:12:00</td>\n",
       "      <td>2021-03-20T22:12:00</td>\n",
       "      <td>1480.0</td>\n",
       "      <td>1480.0</td>\n",
       "      <td>1475.0</td>\n",
       "      <td>1480.0</td>\n",
       "      <td>1616245979323</td>\n",
       "      <td>1.762409e+08</td>\n",
       "      <td>119339.691339</td>\n",
       "      <td>1</td>\n",
       "    </tr>\n",
       "    <tr>\n",
       "      <th>3</th>\n",
       "      <td>2021-03-20 13:13:00</td>\n",
       "      <td>KRW-ADA</td>\n",
       "      <td>2021-03-20T13:13:00</td>\n",
       "      <td>2021-03-20T22:13:00</td>\n",
       "      <td>1480.0</td>\n",
       "      <td>1480.0</td>\n",
       "      <td>1475.0</td>\n",
       "      <td>1480.0</td>\n",
       "      <td>1616246040140</td>\n",
       "      <td>8.660259e+07</td>\n",
       "      <td>58537.574946</td>\n",
       "      <td>1</td>\n",
       "    </tr>\n",
       "    <tr>\n",
       "      <th>4</th>\n",
       "      <td>2021-03-20 13:14:00</td>\n",
       "      <td>KRW-ADA</td>\n",
       "      <td>2021-03-20T13:14:00</td>\n",
       "      <td>2021-03-20T22:14:00</td>\n",
       "      <td>1480.0</td>\n",
       "      <td>1480.0</td>\n",
       "      <td>1475.0</td>\n",
       "      <td>1475.0</td>\n",
       "      <td>1616246097894</td>\n",
       "      <td>1.186877e+07</td>\n",
       "      <td>8034.390847</td>\n",
       "      <td>1</td>\n",
       "    </tr>\n",
       "  </tbody>\n",
       "</table>\n",
       "</div>"
      ],
      "text/plain": [
       "  candle_date_time_utc   market candle_date_time_utc.1 candle_date_time_kst  \\\n",
       "0  2021-03-20 13:10:00  KRW-ADA    2021-03-20T13:10:00  2021-03-20T22:10:00   \n",
       "1  2021-03-20 13:11:00  KRW-ADA    2021-03-20T13:11:00  2021-03-20T22:11:00   \n",
       "2  2021-03-20 13:12:00  KRW-ADA    2021-03-20T13:12:00  2021-03-20T22:12:00   \n",
       "3  2021-03-20 13:13:00  KRW-ADA    2021-03-20T13:13:00  2021-03-20T22:13:00   \n",
       "4  2021-03-20 13:14:00  KRW-ADA    2021-03-20T13:14:00  2021-03-20T22:14:00   \n",
       "\n",
       "   opening_price  high_price  low_price  trade_price      timestamp  \\\n",
       "0         1480.0      1480.0     1475.0       1480.0  1616245853420   \n",
       "1         1480.0      1480.0     1475.0       1480.0  1616245920120   \n",
       "2         1480.0      1480.0     1475.0       1480.0  1616245979323   \n",
       "3         1480.0      1480.0     1475.0       1480.0  1616246040140   \n",
       "4         1480.0      1480.0     1475.0       1475.0  1616246097894   \n",
       "\n",
       "   candle_acc_trade_price  candle_acc_trade_volume  unit  \n",
       "0            3.897286e+07             26343.438848     1  \n",
       "1            4.011098e+07             27140.699591     1  \n",
       "2            1.762409e+08            119339.691339     1  \n",
       "3            8.660259e+07             58537.574946     1  \n",
       "4            1.186877e+07              8034.390847     1  "
      ]
     },
     "execution_count": 14,
     "metadata": {},
     "output_type": "execute_result"
    }
   ],
   "source": [
    "df_raw.head()"
   ]
  },
  {
   "cell_type": "code",
   "execution_count": 16,
   "metadata": {},
   "outputs": [
    {
     "name": "stdout",
     "output_type": "stream",
     "text": [
      "['KRW-ADA', 'KRW-AERGO']\n"
     ]
    }
   ],
   "source": [
    "freq = '10T'\n",
    "ticker_list = df_raw[\"market\"].unique().tolist()\n",
    "pick_cols = ['candle_date_time_utc', 'market', 'opening_price', 'high_price', 'low_price', 'trade_price', 'candle_acc_trade_volume']\n",
    "print(ticker_list)"
   ]
  },
  {
   "cell_type": "code",
   "execution_count": 17,
   "metadata": {},
   "outputs": [
    {
     "name": "stderr",
     "output_type": "stream",
     "text": [
      "  0%|          | 0/2 [00:00<?, ?it/s]c:\\Users\\onsemiro7988\\Anaconda3\\envs\\DL_Envs\\lib\\site-packages\\ta\\trend.py:769: RuntimeWarning: invalid value encountered in double_scalars\n",
      "  dip[idx] = 100 * (self._dip[idx] / value)\n",
      "c:\\Users\\onsemiro7988\\Anaconda3\\envs\\DL_Envs\\lib\\site-packages\\ta\\trend.py:774: RuntimeWarning: invalid value encountered in double_scalars\n",
      "  din[idx] = 100 * (self._din[idx] / value)\n",
      "100%|██████████| 2/2 [00:53<00:00, 26.76s/it]\n"
     ]
    }
   ],
   "source": [
    "df_total_feat = pd.DataFrame()\n",
    "df_total_target = pd.DataFrame()\n",
    "days = [1, 3, 5, 10]\n",
    "\n",
    "# 각 코인별로 10분봉으로 변환하여 Feature 생성\n",
    "for ticker in tqdm(ticker_list):\n",
    "    resmpl_df = pd.DataFrame()\n",
    "    df_ticker = df_raw.loc[df_raw[\"market\"]==ticker, pick_cols].copy()\n",
    "\n",
    "    df_ticker.columns = ['time', 'ticker', 'open', 'high', 'low', 'close', 'volume']\n",
    "    df_ticker.sort_values(\"time\", ascending=True, inplace=True)\n",
    "    df_ticker.set_index(pd.to_datetime(df_ticker['time']), inplace=True)\n",
    "\n",
    "    # 10분봉으로 upsampling\n",
    "    resmpl_df['open'] = df_ticker['open'].resample(freq, label='right', closed='right').ohlc()['open']\n",
    "    resmpl_df['high'] = df_ticker['high'].resample(freq, label='right', closed='right').max()\n",
    "    resmpl_df['low'] = df_ticker['low'].resample(freq, label='right', closed='right').min()\n",
    "    resmpl_df['close'] = df_ticker['close'].resample(freq, label='right', closed='right').ohlc()['close']\n",
    "    resmpl_df['volume'] = df_ticker['volume'].resample(freq, label='right', closed='right').sum()\n",
    "    resmpl_df['ticker'] = ticker\n",
    "    \n",
    "    # 기본 피처 생성\n",
    "    df_feature = feat.get_feature(resmpl_df)\n",
    "    df_total_feat = pd.concat([df_total_feat, df_feature.reset_index()])\n",
    "    \n",
    "    # Target 설정\n",
    "    df_target = pd.DataFrame()\n",
    "    for i in days:\n",
    "        df_target[f\"target_close_{i}\"] = (df_feature[\"close\"].shift(-i) - df_feature[\"close\"]).dropna()\n",
    "    \n",
    "    df_target = df_target.applymap(lambda x: 1 if x > 0 else 0)\n",
    "    df_target['ticker'] = ticker\n",
    "    \n",
    "    df_total_target = pd.concat([df_total_target, df_target])\n",
    "    \n",
    "    "
   ]
  },
  {
   "cell_type": "code",
   "execution_count": 18,
   "metadata": {},
   "outputs": [
    {
     "data": {
      "text/plain": [
       "(53073, 125)"
      ]
     },
     "execution_count": 18,
     "metadata": {},
     "output_type": "execute_result"
    }
   ],
   "source": [
    "drop_cols = ['time', 'open', 'high', 'low', 'close', 'volume', 'ticker']\n",
    "df_total_feat[df_total_feat['ticker'] == 'KRW-ADA'].shape"
   ]
  },
  {
   "cell_type": "code",
   "execution_count": 19,
   "metadata": {},
   "outputs": [],
   "source": [
    "sel_df_feat = df_total_feat.drop(columns=drop_cols).fillna(method='ffill')"
   ]
  },
  {
   "cell_type": "code",
   "execution_count": 53,
   "metadata": {},
   "outputs": [
    {
     "name": "stderr",
     "output_type": "stream",
     "text": [
      "c:\\Users\\onsemiro7988\\Anaconda3\\envs\\DL_Envs\\lib\\site-packages\\pandas\\core\\frame.py:5039: SettingWithCopyWarning: \n",
      "A value is trying to be set on a copy of a slice from a DataFrame\n",
      "\n",
      "See the caveats in the documentation: https://pandas.pydata.org/pandas-docs/stable/user_guide/indexing.html#returning-a-view-versus-a-copy\n",
      "  return super().rename(\n"
     ]
    },
    {
     "data": {
      "application/vnd.jupyter.widget-view+json": {
       "model_id": "babdcc7101bf4aeda20149589f34037b",
       "version_major": 2,
       "version_minor": 0
      },
      "text/plain": [
       "Summarize dataset:   0%|          | 0/5 [00:00<?, ?it/s]"
      ]
     },
     "metadata": {},
     "output_type": "display_data"
    },
    {
     "name": "stderr",
     "output_type": "stream",
     "text": [
      "c:\\Users\\onsemiro7988\\Anaconda3\\envs\\DL_Envs\\lib\\site-packages\\numpy\\core\\_methods.py:230: RuntimeWarning: invalid value encountered in subtract\n",
      "  x = asanyarray(arr - arrmean)\n",
      "c:\\Users\\onsemiro7988\\Anaconda3\\envs\\DL_Envs\\lib\\site-packages\\numpy\\core\\_methods.py:230: RuntimeWarning: invalid value encountered in subtract\n",
      "  x = asanyarray(arr - arrmean)\n",
      "c:\\Users\\onsemiro7988\\Anaconda3\\envs\\DL_Envs\\lib\\site-packages\\pandas_profiling\\model\\correlations.py:67: UserWarning: There was an attempt to calculate the auto correlation, but this failed.\n",
      "To hide this warning, disable the calculation\n",
      "(using `df.profile_report(correlations={\"auto\": {\"calculate\": False}})`\n",
      "If this is problematic for your use case, please report this as an issue:\n",
      "https://github.com/ydataai/pandas-profiling/issues\n",
      "(include the error message: 'cannot specify integer `bins` when input data contains infinity')\n",
      "  warnings.warn(\n",
      "c:\\Users\\onsemiro7988\\Anaconda3\\envs\\DL_Envs\\lib\\site-packages\\missingno\\missingno.py:254: UserWarning: FixedFormatter should only be used together with FixedLocator\n",
      "  ax1.set_xticklabels(\n",
      "c:\\Users\\onsemiro7988\\Anaconda3\\envs\\DL_Envs\\lib\\site-packages\\pandas_profiling\\model\\missing.py:89: UserWarning: There was an attempt to generate the Count missing values diagrams, but this failed.\n",
      "To hide this warning, disable the calculation\n",
      "(using `df.profile_report(missing_diagrams={\"Count\": False}`)\n",
      "If this is problematic for your use case, please report this as an issue:\n",
      "https://github.com/ydataai/pandas-profiling/issues\n",
      "(include the error message: 'The number of FixedLocator locations (7), usually from a call to set_ticks, does not match the number of ticklabels (125).')\n",
      "  warnings.warn(\n",
      "c:\\Users\\onsemiro7988\\Anaconda3\\envs\\DL_Envs\\lib\\site-packages\\pandas\\core\\series.py:1442: PerformanceWarning: DataFrame is highly fragmented.  This is usually the result of calling `frame.insert` many times, which has poor performance.  Consider joining all columns at once using pd.concat(axis=1) instead.  To get a de-fragmented frame, use `newframe = frame.copy()`\n",
      "  return df.reset_index(level=level, drop=drop)\n"
     ]
    },
    {
     "data": {
      "application/vnd.jupyter.widget-view+json": {
       "model_id": "5ce622d1f0c94749b6dda70dd9fc65ad",
       "version_major": 2,
       "version_minor": 0
      },
      "text/plain": [
       "Generate report structure:   0%|          | 0/1 [00:00<?, ?it/s]"
      ]
     },
     "metadata": {},
     "output_type": "display_data"
    },
    {
     "data": {
      "application/vnd.jupyter.widget-view+json": {
       "model_id": "1ecc9b7ecd474defb539d3771b697518",
       "version_major": 2,
       "version_minor": 0
      },
      "text/plain": [
       "Render HTML:   0%|          | 0/1 [00:00<?, ?it/s]"
      ]
     },
     "metadata": {},
     "output_type": "display_data"
    },
    {
     "data": {
      "application/vnd.jupyter.widget-view+json": {
       "model_id": "ace1ab38f9e74b449f43ba1e666fa2ed",
       "version_major": 2,
       "version_minor": 0
      },
      "text/plain": [
       "Export report to file:   0%|          | 0/1 [00:00<?, ?it/s]"
      ]
     },
     "metadata": {},
     "output_type": "display_data"
    },
    {
     "data": {
      "image/png": "[encoded data removed]",
      "text/plain": [
       "<Figure size 720x360 with 3 Axes>"
      ]
     },
     "metadata": {},
     "output_type": "display_data"
    }
   ],
   "source": [
    "import pandas_profiling\n",
    "pr = df_total_feat[df_total_feat['ticker'] == 'KRW-ADA'].profile_report()\n",
    "pr.to_file('./pr_report.html')\n",
    "# sns.boxplot(data=sel_df_feat)\n"
   ]
  },
  {
   "cell_type": "code",
   "execution_count": 20,
   "metadata": {},
   "outputs": [
    {
     "name": "stderr",
     "output_type": "stream",
     "text": [
      " 50%|█████     | 1/2 [00:02<00:02,  2.42s/it]"
     ]
    },
    {
     "name": "stdout",
     "output_type": "stream",
     "text": [
      "KRW-ADA\n",
      "(53073, 118)\n"
     ]
    },
    {
     "name": "stderr",
     "output_type": "stream",
     "text": [
      "100%|██████████| 2/2 [00:04<00:00,  2.49s/it]"
     ]
    },
    {
     "name": "stdout",
     "output_type": "stream",
     "text": [
      "KRW-AERGO\n",
      "(61239, 118)\n"
     ]
    },
    {
     "name": "stderr",
     "output_type": "stream",
     "text": [
      "\n"
     ]
    }
   ],
   "source": [
    "df_iqr_data = pd.DataFrame() \n",
    "for ticker in tqdm(ticker_list):\n",
    "    tmp_ticker = sel_df_feat.loc[df_total_feat[\"ticker\"]==ticker].copy()\n",
    "    \n",
    "    tmp_feat_all = pd.DataFrame()  \n",
    "    for col in tmp_ticker.columns:\n",
    "        if tmp_ticker.shape[0] == (tmp_ticker[col] == 0).sum():\n",
    "            print(col)\n",
    "            print(tmp_ticker[col].describe())\n",
    "            continue\n",
    "        tmp_series = cal_iqr(tmp_ticker[col])\n",
    "        tmp_feat_all = pd.concat([tmp_feat_all, tmp_series], axis=1)\n",
    "        \n",
    "    # tmp_feat_all['ticker'] = ticker\n",
    "    print(ticker)\n",
    "    print(tmp_feat_all.shape)\n",
    "    df_iqr_data = pd.concat([df_iqr_data, tmp_feat_all], join='outer')\n",
    "    \n",
    "df_iqr_data = pd.concat([df_total_feat[drop_cols], df_iqr_data], axis=1, join='outer')"
   ]
  },
  {
   "cell_type": "code",
   "execution_count": 55,
   "metadata": {},
   "outputs": [
    {
     "name": "stdout",
     "output_type": "stream",
     "text": [
      "                 time    open    high     low   close         volume   ticker  \\\n",
      "0 2021-03-20 13:10:00  1480.0  1480.0  1475.0  1480.0   26343.438848  KRW-ADA   \n",
      "1 2021-03-20 13:20:00  1480.0  1480.0  1475.0  1475.0  658109.212608  KRW-ADA   \n",
      "2 2021-03-20 13:30:00  1475.0  1480.0  1470.0  1470.0  428598.456664  KRW-ADA   \n",
      "3 2021-03-20 13:40:00  1475.0  1475.0  1470.0  1470.0  261951.847279  KRW-ADA   \n",
      "4 2021-03-20 13:50:00  1475.0  1475.0  1470.0  1470.0  364211.759152  KRW-ADA   \n",
      "\n",
      "   transaction_amount  pct_change_close_5  pct_change_volume_5  ...  \\\n",
      "0        3.898829e+07                 NaN                  NaN  ...   \n",
      "1        9.707111e+08                 NaN                  NaN  ...   \n",
      "2        6.300397e+08                 NaN                  NaN  ...   \n",
      "3        3.850692e+08                 NaN                  NaN  ...   \n",
      "4        5.353913e+08                 NaN                  NaN  ...   \n",
      "\n",
      "   trend_aroon_ind  trend_psar  trend_psar_up  trend_psar_up_indicator  \\\n",
      "0              NaN      1480.0            0.0                      0.0   \n",
      "1              NaN      1475.0            0.0                      0.0   \n",
      "2              NaN      1480.0            0.0                      0.0   \n",
      "3              NaN      1480.0            0.0                      0.0   \n",
      "4              NaN      1480.0            0.0                      0.0   \n",
      "\n",
      "   trend_psar_down  trend_psar_down_indicator  daily_return  daily_log_return  \\\n",
      "0              0.0                        0.0     -1.224188               NaN   \n",
      "1              0.0                        0.0     -0.337838         -0.338410   \n",
      "2           1480.0                        0.0     -0.338983         -0.339559   \n",
      "3           1480.0                        0.0      0.000000          0.000000   \n",
      "4           1480.0                        0.0      0.000000          0.000000   \n",
      "\n",
      "   cumlative_return  daily_maximum_return  \n",
      "0          0.000000                   NaN  \n",
      "1         -0.337838              0.000000  \n",
      "2         -0.675676              0.338983  \n",
      "3         -0.675676              0.340136  \n",
      "4         -0.675676              0.340136  \n",
      "\n",
      "[5 rows x 125 columns]\n",
      "                     time   open   high    low  close         volume  \\\n",
      "61234 2022-03-24 05:40:00  286.0  286.0  285.0  286.0  116954.908472   \n",
      "61235 2022-03-24 05:50:00  286.0  287.0  285.0  285.0  175177.196882   \n",
      "61236 2022-03-24 06:00:00  285.0  286.0  285.0  285.0  175149.322475   \n",
      "61237 2022-03-24 06:10:00  286.0  286.0  285.0  286.0  104450.841790   \n",
      "61238 2022-03-24 06:20:00  286.0  286.0  285.0  286.0  105645.549086   \n",
      "\n",
      "          ticker  transaction_amount  pct_change_close_5  pct_change_volume_5  \\\n",
      "61234  KRW-AERGO        3.344910e+07           -0.003484             0.373201   \n",
      "61235  KRW-AERGO        4.992550e+07           -0.003497            -0.511901   \n",
      "61236  KRW-AERGO        4.991756e+07           -0.003497             0.218209   \n",
      "61237  KRW-AERGO        2.987294e+07            0.000000             0.281684   \n",
      "61238  KRW-AERGO        3.021463e+07            0.000000            -0.201021   \n",
      "\n",
      "       ...  trend_aroon_ind  trend_psar  trend_psar_up  \\\n",
      "61234  ...             64.0  288.000000            0.0   \n",
      "61235  ...             60.0  287.940000            0.0   \n",
      "61236  ...             56.0  287.881200            0.0   \n",
      "61237  ...             48.0  287.823576            0.0   \n",
      "61238  ...             48.0  287.767104            0.0   \n",
      "\n",
      "       trend_psar_up_indicator  trend_psar_down  trend_psar_down_indicator  \\\n",
      "61234                      0.0       288.000000                        0.0   \n",
      "61235                      0.0       287.940000                        0.0   \n",
      "61236                      0.0       287.881200                        0.0   \n",
      "61237                      0.0       287.823576                        0.0   \n",
      "61238                      0.0       287.767104                        0.0   \n",
      "\n",
      "       daily_return  daily_log_return  cumlative_return  daily_maximum_return  \n",
      "61234      0.000000          0.000000        433.582090              0.000000  \n",
      "61235     -0.349650         -0.350263        431.716418              0.349650  \n",
      "61236      0.000000          0.000000        431.716418              0.350877  \n",
      "61237      0.350877          0.350263        433.582090              0.350877  \n",
      "61238      0.000000          0.000000        433.582090              0.000000  \n",
      "\n",
      "[5 rows x 125 columns]\n"
     ]
    }
   ],
   "source": [
    "print(df_iqr_data.head())\n",
    "print(df_iqr_data.tail())"
   ]
  },
  {
   "cell_type": "code",
   "execution_count": 21,
   "metadata": {},
   "outputs": [],
   "source": [
    "df_scaled = pd.DataFrame()\n",
    "window = 20\n",
    "n = 5"
   ]
  },
  {
   "cell_type": "code",
   "execution_count": 22,
   "metadata": {},
   "outputs": [
    {
     "name": "stderr",
     "output_type": "stream",
     "text": [
      "  0%|          | 0/2 [00:00<?, ?it/s]c:\\Users\\onsemiro7988\\Anaconda3\\envs\\DL_Envs\\lib\\site-packages\\numpy\\lib\\nanfunctions.py:1119: RuntimeWarning: All-NaN slice encountered\n",
      "  r, k = function_base._ureduce(a, func=_nanmedian, axis=axis, out=out,\n",
      "c:\\Users\\onsemiro7988\\Anaconda3\\envs\\DL_Envs\\lib\\site-packages\\numpy\\lib\\nanfunctions.py:1374: RuntimeWarning: All-NaN slice encountered\n",
      "  r, k = function_base._ureduce(\n",
      "c:\\Users\\onsemiro7988\\Anaconda3\\envs\\DL_Envs\\lib\\site-packages\\numpy\\lib\\nanfunctions.py:1119: RuntimeWarning: All-NaN slice encountered\n",
      "  r, k = function_base._ureduce(a, func=_nanmedian, axis=axis, out=out,\n",
      "c:\\Users\\onsemiro7988\\Anaconda3\\envs\\DL_Envs\\lib\\site-packages\\numpy\\lib\\nanfunctions.py:1374: RuntimeWarning: All-NaN slice encountered\n",
      "  r, k = function_base._ureduce(\n",
      "c:\\Users\\onsemiro7988\\Anaconda3\\envs\\DL_Envs\\lib\\site-packages\\numpy\\lib\\nanfunctions.py:1119: RuntimeWarning: All-NaN slice encountered\n",
      "  r, k = function_base._ureduce(a, func=_nanmedian, axis=axis, out=out,\n",
      "c:\\Users\\onsemiro7988\\Anaconda3\\envs\\DL_Envs\\lib\\site-packages\\numpy\\lib\\nanfunctions.py:1374: RuntimeWarning: All-NaN slice encountered\n",
      "  r, k = function_base._ureduce(\n",
      "100%|██████████| 2/2 [01:32<00:00, 46.13s/it]\n"
     ]
    }
   ],
   "source": [
    "for ticker in tqdm(ticker_list):\n",
    "    df_ticker = df_iqr_data[df_iqr_data[\"ticker\"] == ticker].copy().iloc[:-n]\n",
    "    df_ticker = df_ticker.replace([np.inf, -np.inf], np.nan).fillna(method='ffill')\n",
    "    scaled = feature_selection.scaling_data(df_ticker.drop(columns=drop_cols), window=window, scale=\"rob\")\n",
    "    scaled.loc[:, drop_cols] = df_ticker[drop_cols].copy()\n",
    "    df_scaled = pd.concat([df_scaled, scaled])"
   ]
  },
  {
   "cell_type": "code",
   "execution_count": 23,
   "metadata": {},
   "outputs": [
    {
     "data": {
      "text/html": [
       "<div>\n",
       "<style scoped>\n",
       "    .dataframe tbody tr th:only-of-type {\n",
       "        vertical-align: middle;\n",
       "    }\n",
       "\n",
       "    .dataframe tbody tr th {\n",
       "        vertical-align: top;\n",
       "    }\n",
       "\n",
       "    .dataframe thead th {\n",
       "        text-align: right;\n",
       "    }\n",
       "</style>\n",
       "<table border=\"1\" class=\"dataframe\">\n",
       "  <thead>\n",
       "    <tr style=\"text-align: right;\">\n",
       "      <th></th>\n",
       "      <th>transaction_amount</th>\n",
       "      <th>pct_change_close_5</th>\n",
       "      <th>pct_change_volume_5</th>\n",
       "      <th>std_close_5</th>\n",
       "      <th>std_volume_5</th>\n",
       "      <th>kyle_lambda_5</th>\n",
       "      <th>amihud_lambda5</th>\n",
       "      <th>hasbrouck_lambda5</th>\n",
       "      <th>bekker_parkinson_vol5</th>\n",
       "      <th>corwin_schultz_estimator5</th>\n",
       "      <th>...</th>\n",
       "      <th>daily_log_return</th>\n",
       "      <th>cumlative_return</th>\n",
       "      <th>daily_maximum_return</th>\n",
       "      <th>time</th>\n",
       "      <th>open</th>\n",
       "      <th>high</th>\n",
       "      <th>low</th>\n",
       "      <th>close</th>\n",
       "      <th>volume</th>\n",
       "      <th>ticker</th>\n",
       "    </tr>\n",
       "  </thead>\n",
       "  <tbody>\n",
       "    <tr>\n",
       "      <th>0</th>\n",
       "      <td>-1.009112</td>\n",
       "      <td>NaN</td>\n",
       "      <td>NaN</td>\n",
       "      <td>NaN</td>\n",
       "      <td>NaN</td>\n",
       "      <td>NaN</td>\n",
       "      <td>NaN</td>\n",
       "      <td>NaN</td>\n",
       "      <td>NaN</td>\n",
       "      <td>NaN</td>\n",
       "      <td>...</td>\n",
       "      <td>NaN</td>\n",
       "      <td>1.5</td>\n",
       "      <td>NaN</td>\n",
       "      <td>2021-03-20 13:10:00</td>\n",
       "      <td>1480.0</td>\n",
       "      <td>1480.0</td>\n",
       "      <td>1475.0</td>\n",
       "      <td>1480.0</td>\n",
       "      <td>26343.438848</td>\n",
       "      <td>KRW-ADA</td>\n",
       "    </tr>\n",
       "    <tr>\n",
       "      <th>1</th>\n",
       "      <td>0.371027</td>\n",
       "      <td>NaN</td>\n",
       "      <td>NaN</td>\n",
       "      <td>NaN</td>\n",
       "      <td>NaN</td>\n",
       "      <td>NaN</td>\n",
       "      <td>NaN</td>\n",
       "      <td>NaN</td>\n",
       "      <td>NaN</td>\n",
       "      <td>NaN</td>\n",
       "      <td>...</td>\n",
       "      <td>-0.998305</td>\n",
       "      <td>1.0</td>\n",
       "      <td>-0.994895</td>\n",
       "      <td>2021-03-20 13:20:00</td>\n",
       "      <td>1480.0</td>\n",
       "      <td>1480.0</td>\n",
       "      <td>1475.0</td>\n",
       "      <td>1475.0</td>\n",
       "      <td>658109.212608</td>\n",
       "      <td>KRW-ADA</td>\n",
       "    </tr>\n",
       "    <tr>\n",
       "      <th>2</th>\n",
       "      <td>-0.133602</td>\n",
       "      <td>NaN</td>\n",
       "      <td>NaN</td>\n",
       "      <td>NaN</td>\n",
       "      <td>NaN</td>\n",
       "      <td>NaN</td>\n",
       "      <td>NaN</td>\n",
       "      <td>NaN</td>\n",
       "      <td>NaN</td>\n",
       "      <td>NaN</td>\n",
       "      <td>...</td>\n",
       "      <td>-1.001695</td>\n",
       "      <td>0.5</td>\n",
       "      <td>-0.003373</td>\n",
       "      <td>2021-03-20 13:30:00</td>\n",
       "      <td>1475.0</td>\n",
       "      <td>1480.0</td>\n",
       "      <td>1470.0</td>\n",
       "      <td>1470.0</td>\n",
       "      <td>428598.456664</td>\n",
       "      <td>KRW-ADA</td>\n",
       "    </tr>\n",
       "    <tr>\n",
       "      <th>3</th>\n",
       "      <td>-0.496471</td>\n",
       "      <td>NaN</td>\n",
       "      <td>NaN</td>\n",
       "      <td>NaN</td>\n",
       "      <td>NaN</td>\n",
       "      <td>NaN</td>\n",
       "      <td>NaN</td>\n",
       "      <td>NaN</td>\n",
       "      <td>NaN</td>\n",
       "      <td>NaN</td>\n",
       "      <td>...</td>\n",
       "      <td>0.000000</td>\n",
       "      <td>0.5</td>\n",
       "      <td>0.000000</td>\n",
       "      <td>2021-03-20 13:40:00</td>\n",
       "      <td>1475.0</td>\n",
       "      <td>1475.0</td>\n",
       "      <td>1470.0</td>\n",
       "      <td>1470.0</td>\n",
       "      <td>261951.847279</td>\n",
       "      <td>KRW-ADA</td>\n",
       "    </tr>\n",
       "    <tr>\n",
       "      <th>4</th>\n",
       "      <td>-0.273802</td>\n",
       "      <td>NaN</td>\n",
       "      <td>NaN</td>\n",
       "      <td>0.015488</td>\n",
       "      <td>-0.158082</td>\n",
       "      <td>NaN</td>\n",
       "      <td>NaN</td>\n",
       "      <td>NaN</td>\n",
       "      <td>NaN</td>\n",
       "      <td>NaN</td>\n",
       "      <td>...</td>\n",
       "      <td>0.000000</td>\n",
       "      <td>0.5</td>\n",
       "      <td>0.000000</td>\n",
       "      <td>2021-03-20 13:50:00</td>\n",
       "      <td>1475.0</td>\n",
       "      <td>1475.0</td>\n",
       "      <td>1470.0</td>\n",
       "      <td>1470.0</td>\n",
       "      <td>364211.759152</td>\n",
       "      <td>KRW-ADA</td>\n",
       "    </tr>\n",
       "  </tbody>\n",
       "</table>\n",
       "<p>5 rows × 125 columns</p>\n",
       "</div>"
      ],
      "text/plain": [
       "   transaction_amount  pct_change_close_5  pct_change_volume_5  std_close_5  \\\n",
       "0           -1.009112                 NaN                  NaN          NaN   \n",
       "1            0.371027                 NaN                  NaN          NaN   \n",
       "2           -0.133602                 NaN                  NaN          NaN   \n",
       "3           -0.496471                 NaN                  NaN          NaN   \n",
       "4           -0.273802                 NaN                  NaN     0.015488   \n",
       "\n",
       "   std_volume_5  kyle_lambda_5  amihud_lambda5  hasbrouck_lambda5  \\\n",
       "0           NaN            NaN             NaN                NaN   \n",
       "1           NaN            NaN             NaN                NaN   \n",
       "2           NaN            NaN             NaN                NaN   \n",
       "3           NaN            NaN             NaN                NaN   \n",
       "4     -0.158082            NaN             NaN                NaN   \n",
       "\n",
       "   bekker_parkinson_vol5  corwin_schultz_estimator5  ...  daily_log_return  \\\n",
       "0                    NaN                        NaN  ...               NaN   \n",
       "1                    NaN                        NaN  ...         -0.998305   \n",
       "2                    NaN                        NaN  ...         -1.001695   \n",
       "3                    NaN                        NaN  ...          0.000000   \n",
       "4                    NaN                        NaN  ...          0.000000   \n",
       "\n",
       "   cumlative_return  daily_maximum_return                time    open    high  \\\n",
       "0               1.5                   NaN 2021-03-20 13:10:00  1480.0  1480.0   \n",
       "1               1.0             -0.994895 2021-03-20 13:20:00  1480.0  1480.0   \n",
       "2               0.5             -0.003373 2021-03-20 13:30:00  1475.0  1480.0   \n",
       "3               0.5              0.000000 2021-03-20 13:40:00  1475.0  1475.0   \n",
       "4               0.5              0.000000 2021-03-20 13:50:00  1475.0  1475.0   \n",
       "\n",
       "      low   close         volume   ticker  \n",
       "0  1475.0  1480.0   26343.438848  KRW-ADA  \n",
       "1  1475.0  1475.0  658109.212608  KRW-ADA  \n",
       "2  1470.0  1470.0  428598.456664  KRW-ADA  \n",
       "3  1470.0  1470.0  261951.847279  KRW-ADA  \n",
       "4  1470.0  1470.0  364211.759152  KRW-ADA  \n",
       "\n",
       "[5 rows x 125 columns]"
      ]
     },
     "execution_count": 23,
     "metadata": {},
     "output_type": "execute_result"
    }
   ],
   "source": [
    "df_scaled.head()"
   ]
  },
  {
   "cell_type": "code",
   "execution_count": 97,
   "metadata": {},
   "outputs": [
    {
     "data": {
      "text/plain": [
       "<AxesSubplot:>"
      ]
     },
     "execution_count": 97,
     "metadata": {},
     "output_type": "execute_result"
    },
    {
     "data": {
      "image/png": "[encoded data removed]",
      "text/plain": [
       "<Figure size 1008x288 with 1 Axes>"
      ]
     },
     "metadata": {
      "needs_background": "light"
     },
     "output_type": "display_data"
    }
   ],
   "source": [
    "df_scaled.iloc[2*window:3*window, 25].plot()"
   ]
  },
  {
   "cell_type": "code",
   "execution_count": 41,
   "metadata": {},
   "outputs": [
    {
     "name": "stderr",
     "output_type": "stream",
     "text": [
      "100%|██████████| 2/2 [16:06:53<00:00, 29006.77s/it] \n"
     ]
    }
   ],
   "source": [
    "df_roll_data, df_target = rolling_cook_dataset(df_scaled, n=n, window=window)"
   ]
  },
  {
   "cell_type": "code",
   "execution_count": 42,
   "metadata": {},
   "outputs": [
    {
     "data": {
      "text/html": [
       "<div>\n",
       "<style scoped>\n",
       "    .dataframe tbody tr th:only-of-type {\n",
       "        vertical-align: middle;\n",
       "    }\n",
       "\n",
       "    .dataframe tbody tr th {\n",
       "        vertical-align: top;\n",
       "    }\n",
       "\n",
       "    .dataframe thead th {\n",
       "        text-align: right;\n",
       "    }\n",
       "</style>\n",
       "<table border=\"1\" class=\"dataframe\">\n",
       "  <thead>\n",
       "    <tr style=\"text-align: right;\">\n",
       "      <th></th>\n",
       "      <th>index</th>\n",
       "      <th>median</th>\n",
       "      <th>ticker</th>\n",
       "    </tr>\n",
       "  </thead>\n",
       "  <tbody>\n",
       "    <tr>\n",
       "      <th>114237</th>\n",
       "      <td>61215</td>\n",
       "      <td>0</td>\n",
       "      <td>KRW-AERGO</td>\n",
       "    </tr>\n",
       "    <tr>\n",
       "      <th>114238</th>\n",
       "      <td>61216</td>\n",
       "      <td>0</td>\n",
       "      <td>KRW-AERGO</td>\n",
       "    </tr>\n",
       "    <tr>\n",
       "      <th>114239</th>\n",
       "      <td>61217</td>\n",
       "      <td>0</td>\n",
       "      <td>KRW-AERGO</td>\n",
       "    </tr>\n",
       "    <tr>\n",
       "      <th>114240</th>\n",
       "      <td>61218</td>\n",
       "      <td>0</td>\n",
       "      <td>KRW-AERGO</td>\n",
       "    </tr>\n",
       "    <tr>\n",
       "      <th>114241</th>\n",
       "      <td>61219</td>\n",
       "      <td>0</td>\n",
       "      <td>KRW-AERGO</td>\n",
       "    </tr>\n",
       "  </tbody>\n",
       "</table>\n",
       "</div>"
      ],
      "text/plain": [
       "        index  median     ticker\n",
       "114237  61215       0  KRW-AERGO\n",
       "114238  61216       0  KRW-AERGO\n",
       "114239  61217       0  KRW-AERGO\n",
       "114240  61218       0  KRW-AERGO\n",
       "114241  61219       0  KRW-AERGO"
      ]
     },
     "execution_count": 42,
     "metadata": {},
     "output_type": "execute_result"
    }
   ],
   "source": [
    "df_target.tail()"
   ]
  },
  {
   "cell_type": "code",
   "execution_count": 61,
   "metadata": {},
   "outputs": [
    {
     "data": {
      "text/plain": [
       "0         20\n",
       "76157     20\n",
       "76168     20\n",
       "76167     20\n",
       "76166     20\n",
       "          ..\n",
       "38077     20\n",
       "38076     20\n",
       "38075     20\n",
       "38074     20\n",
       "114241    20\n",
       "Name: no_samples, Length: 114242, dtype: int64"
      ]
     },
     "execution_count": 61,
     "metadata": {},
     "output_type": "execute_result"
    }
   ],
   "source": [
    "df_roll_data['no_samples'].value_counts()"
   ]
  },
  {
   "cell_type": "code",
   "execution_count": 59,
   "metadata": {},
   "outputs": [],
   "source": [
    "df_roll_data.loc[df_roll_data['ticker'] == 'KRW-AERGO', 'no_samples'] = df_roll_data.loc[df_roll_data['ticker'] == 'KRW-AERGO', 'no_samples'] + 1"
   ]
  },
  {
   "cell_type": "code",
   "execution_count": 46,
   "metadata": {},
   "outputs": [
    {
     "data": {
      "text/plain": [
       "((2284840, 121), (114242, 3))"
      ]
     },
     "execution_count": 46,
     "metadata": {},
     "output_type": "execute_result"
    }
   ],
   "source": [
    "df_roll_data.shape, df_target.shape"
   ]
  },
  {
   "cell_type": "code",
   "execution_count": 54,
   "metadata": {},
   "outputs": [
    {
     "data": {
      "text/plain": [
       "<AxesSubplot:>"
      ]
     },
     "execution_count": 54,
     "metadata": {},
     "output_type": "execute_result"
    },
    {
     "data": {
      "image/png": "[encoded data removed]",
      "text/plain": [
       "<Figure size 1008x288 with 1 Axes>"
      ]
     },
     "metadata": {
      "needs_background": "light"
     },
     "output_type": "display_data"
    }
   ],
   "source": [
    "df_roll_data.loc[df_roll_data['no_samples'] == 10, df_roll_data.columns[20]].plot()"
   ]
  },
  {
   "cell_type": "code",
   "execution_count": 60,
   "metadata": {},
   "outputs": [
    {
     "data": {
      "text/html": [
       "<div>\n",
       "<style scoped>\n",
       "    .dataframe tbody tr th:only-of-type {\n",
       "        vertical-align: middle;\n",
       "    }\n",
       "\n",
       "    .dataframe tbody tr th {\n",
       "        vertical-align: top;\n",
       "    }\n",
       "\n",
       "    .dataframe thead th {\n",
       "        text-align: right;\n",
       "    }\n",
       "</style>\n",
       "<table border=\"1\" class=\"dataframe\">\n",
       "  <thead>\n",
       "    <tr style=\"text-align: right;\">\n",
       "      <th></th>\n",
       "      <th>transaction_amount</th>\n",
       "      <th>pct_change_close_5</th>\n",
       "      <th>pct_change_volume_5</th>\n",
       "      <th>std_close_5</th>\n",
       "      <th>std_volume_5</th>\n",
       "      <th>kyle_lambda_5</th>\n",
       "      <th>amihud_lambda5</th>\n",
       "      <th>hasbrouck_lambda5</th>\n",
       "      <th>bekker_parkinson_vol5</th>\n",
       "      <th>corwin_schultz_estimator5</th>\n",
       "      <th>...</th>\n",
       "      <th>trend_psar_up</th>\n",
       "      <th>trend_psar_up_indicator</th>\n",
       "      <th>trend_psar_down</th>\n",
       "      <th>trend_psar_down_indicator</th>\n",
       "      <th>daily_return</th>\n",
       "      <th>daily_log_return</th>\n",
       "      <th>cumlative_return</th>\n",
       "      <th>daily_maximum_return</th>\n",
       "      <th>time</th>\n",
       "      <th>ticker</th>\n",
       "    </tr>\n",
       "    <tr>\n",
       "      <th>no_samples</th>\n",
       "      <th></th>\n",
       "      <th></th>\n",
       "      <th></th>\n",
       "      <th></th>\n",
       "      <th></th>\n",
       "      <th></th>\n",
       "      <th></th>\n",
       "      <th></th>\n",
       "      <th></th>\n",
       "      <th></th>\n",
       "      <th></th>\n",
       "      <th></th>\n",
       "      <th></th>\n",
       "      <th></th>\n",
       "      <th></th>\n",
       "      <th></th>\n",
       "      <th></th>\n",
       "      <th></th>\n",
       "      <th></th>\n",
       "      <th></th>\n",
       "      <th></th>\n",
       "    </tr>\n",
       "  </thead>\n",
       "  <tbody>\n",
       "    <tr>\n",
       "      <th>0</th>\n",
       "      <td>1.583719</td>\n",
       "      <td>-0.671582</td>\n",
       "      <td>1.074611</td>\n",
       "      <td>4.169852e-01</td>\n",
       "      <td>0.349973</td>\n",
       "      <td>-0.500815</td>\n",
       "      <td>-0.489368</td>\n",
       "      <td>-0.166967</td>\n",
       "      <td>0.885614</td>\n",
       "      <td>-0.246763</td>\n",
       "      <td>...</td>\n",
       "      <td>1.002131</td>\n",
       "      <td>0.0</td>\n",
       "      <td>-0.496910</td>\n",
       "      <td>0.0</td>\n",
       "      <td>0.000000</td>\n",
       "      <td>0.000000</td>\n",
       "      <td>-1.5</td>\n",
       "      <td>1.022340</td>\n",
       "      <td>2021-03-20 16:20:00</td>\n",
       "      <td>KRW-ADA</td>\n",
       "    </tr>\n",
       "    <tr>\n",
       "      <th>1</th>\n",
       "      <td>5.069833</td>\n",
       "      <td>-0.882808</td>\n",
       "      <td>2.927479</td>\n",
       "      <td>3.012122e-01</td>\n",
       "      <td>3.271687</td>\n",
       "      <td>-0.602444</td>\n",
       "      <td>-0.604145</td>\n",
       "      <td>-0.460954</td>\n",
       "      <td>1.008918</td>\n",
       "      <td>-0.371398</td>\n",
       "      <td>...</td>\n",
       "      <td>0.000000</td>\n",
       "      <td>0.0</td>\n",
       "      <td>1.100409</td>\n",
       "      <td>0.0</td>\n",
       "      <td>0.501504</td>\n",
       "      <td>0.500644</td>\n",
       "      <td>0.0</td>\n",
       "      <td>0.001723</td>\n",
       "      <td>2021-03-20 16:30:00</td>\n",
       "      <td>KRW-ADA</td>\n",
       "    </tr>\n",
       "    <tr>\n",
       "      <th>2</th>\n",
       "      <td>2.167141</td>\n",
       "      <td>-0.882808</td>\n",
       "      <td>4.653699</td>\n",
       "      <td>0.000000e+00</td>\n",
       "      <td>2.623314</td>\n",
       "      <td>-0.602444</td>\n",
       "      <td>-0.604145</td>\n",
       "      <td>-0.460954</td>\n",
       "      <td>1.557573</td>\n",
       "      <td>-0.371398</td>\n",
       "      <td>...</td>\n",
       "      <td>0.000000</td>\n",
       "      <td>0.0</td>\n",
       "      <td>0.974353</td>\n",
       "      <td>0.0</td>\n",
       "      <td>0.000000</td>\n",
       "      <td>0.000000</td>\n",
       "      <td>0.0</td>\n",
       "      <td>0.499569</td>\n",
       "      <td>2021-03-20 16:40:00</td>\n",
       "      <td>KRW-ADA</td>\n",
       "    </tr>\n",
       "    <tr>\n",
       "      <th>3</th>\n",
       "      <td>0.789071</td>\n",
       "      <td>-1.324211</td>\n",
       "      <td>1.873330</td>\n",
       "      <td>-6.987878e-01</td>\n",
       "      <td>2.112428</td>\n",
       "      <td>-0.456126</td>\n",
       "      <td>-0.457831</td>\n",
       "      <td>-0.245993</td>\n",
       "      <td>-0.421921</td>\n",
       "      <td>1.811056</td>\n",
       "      <td>...</td>\n",
       "      <td>0.000000</td>\n",
       "      <td>0.0</td>\n",
       "      <td>0.850817</td>\n",
       "      <td>0.0</td>\n",
       "      <td>-0.499780</td>\n",
       "      <td>-0.500644</td>\n",
       "      <td>-0.8</td>\n",
       "      <td>0.000000</td>\n",
       "      <td>2021-03-20 16:50:00</td>\n",
       "      <td>KRW-ADA</td>\n",
       "    </tr>\n",
       "    <tr>\n",
       "      <th>4</th>\n",
       "      <td>0.985290</td>\n",
       "      <td>-0.891940</td>\n",
       "      <td>0.072873</td>\n",
       "      <td>0.000000e+00</td>\n",
       "      <td>2.408204</td>\n",
       "      <td>-0.466376</td>\n",
       "      <td>-0.463910</td>\n",
       "      <td>-0.342255</td>\n",
       "      <td>0.820013</td>\n",
       "      <td>-0.371398</td>\n",
       "      <td>...</td>\n",
       "      <td>0.000000</td>\n",
       "      <td>0.0</td>\n",
       "      <td>0.729752</td>\n",
       "      <td>0.0</td>\n",
       "      <td>-1.003007</td>\n",
       "      <td>-1.006488</td>\n",
       "      <td>-2.4</td>\n",
       "      <td>-0.499569</td>\n",
       "      <td>2021-03-20 17:00:00</td>\n",
       "      <td>KRW-ADA</td>\n",
       "    </tr>\n",
       "    <tr>\n",
       "      <th>...</th>\n",
       "      <td>...</td>\n",
       "      <td>...</td>\n",
       "      <td>...</td>\n",
       "      <td>...</td>\n",
       "      <td>...</td>\n",
       "      <td>...</td>\n",
       "      <td>...</td>\n",
       "      <td>...</td>\n",
       "      <td>...</td>\n",
       "      <td>...</td>\n",
       "      <td>...</td>\n",
       "      <td>...</td>\n",
       "      <td>...</td>\n",
       "      <td>...</td>\n",
       "      <td>...</td>\n",
       "      <td>...</td>\n",
       "      <td>...</td>\n",
       "      <td>...</td>\n",
       "      <td>...</td>\n",
       "      <td>...</td>\n",
       "      <td>...</td>\n",
       "    </tr>\n",
       "    <tr>\n",
       "      <th>114237</th>\n",
       "      <td>-0.737605</td>\n",
       "      <td>0.665903</td>\n",
       "      <td>-0.410824</td>\n",
       "      <td>-6.845459e-01</td>\n",
       "      <td>0.100917</td>\n",
       "      <td>-0.069333</td>\n",
       "      <td>-0.065120</td>\n",
       "      <td>-0.126212</td>\n",
       "      <td>-0.493738</td>\n",
       "      <td>1.021734</td>\n",
       "      <td>...</td>\n",
       "      <td>0.000000</td>\n",
       "      <td>0.0</td>\n",
       "      <td>-0.430487</td>\n",
       "      <td>0.0</td>\n",
       "      <td>0.802827</td>\n",
       "      <td>0.802256</td>\n",
       "      <td>0.0</td>\n",
       "      <td>0.446530</td>\n",
       "      <td>2022-03-24 02:30:00</td>\n",
       "      <td>KRW-AERGO</td>\n",
       "    </tr>\n",
       "    <tr>\n",
       "      <th>114238</th>\n",
       "      <td>0.262141</td>\n",
       "      <td>1.111911</td>\n",
       "      <td>-0.324732</td>\n",
       "      <td>6.233863e-14</td>\n",
       "      <td>-0.366503</td>\n",
       "      <td>0.115189</td>\n",
       "      <td>0.118005</td>\n",
       "      <td>0.249764</td>\n",
       "      <td>0.001630</td>\n",
       "      <td>-0.009214</td>\n",
       "      <td>...</td>\n",
       "      <td>0.000000</td>\n",
       "      <td>0.0</td>\n",
       "      <td>-0.515772</td>\n",
       "      <td>0.0</td>\n",
       "      <td>0.800000</td>\n",
       "      <td>0.799436</td>\n",
       "      <td>0.5</td>\n",
       "      <td>0.000000</td>\n",
       "      <td>2022-03-24 02:40:00</td>\n",
       "      <td>KRW-AERGO</td>\n",
       "    </tr>\n",
       "    <tr>\n",
       "      <th>114239</th>\n",
       "      <td>0.136584</td>\n",
       "      <td>1.111911</td>\n",
       "      <td>0.050100</td>\n",
       "      <td>-6.233863e-14</td>\n",
       "      <td>-0.354340</td>\n",
       "      <td>0.115189</td>\n",
       "      <td>0.118005</td>\n",
       "      <td>0.249764</td>\n",
       "      <td>1.527676</td>\n",
       "      <td>-0.391519</td>\n",
       "      <td>...</td>\n",
       "      <td>282.000000</td>\n",
       "      <td>0.0</td>\n",
       "      <td>-164.931273</td>\n",
       "      <td>0.0</td>\n",
       "      <td>0.000000</td>\n",
       "      <td>0.000000</td>\n",
       "      <td>0.5</td>\n",
       "      <td>-0.443396</td>\n",
       "      <td>2022-03-24 02:50:00</td>\n",
       "      <td>KRW-AERGO</td>\n",
       "    </tr>\n",
       "    <tr>\n",
       "      <th>114240</th>\n",
       "      <td>-0.790537</td>\n",
       "      <td>1.108770</td>\n",
       "      <td>-0.537772</td>\n",
       "      <td>7.190837e-01</td>\n",
       "      <td>-0.337080</td>\n",
       "      <td>0.369175</td>\n",
       "      <td>0.365852</td>\n",
       "      <td>0.451534</td>\n",
       "      <td>-0.001382</td>\n",
       "      <td>-0.009340</td>\n",
       "      <td>...</td>\n",
       "      <td>282.080000</td>\n",
       "      <td>0.0</td>\n",
       "      <td>-164.931273</td>\n",
       "      <td>0.0</td>\n",
       "      <td>0.797193</td>\n",
       "      <td>0.796636</td>\n",
       "      <td>1.0</td>\n",
       "      <td>-0.443396</td>\n",
       "      <td>2022-03-24 03:00:00</td>\n",
       "      <td>KRW-AERGO</td>\n",
       "    </tr>\n",
       "    <tr>\n",
       "      <th>114241</th>\n",
       "      <td>-1.074628</td>\n",
       "      <td>1.557918</td>\n",
       "      <td>-0.501983</td>\n",
       "      <td>-3.742948e-13</td>\n",
       "      <td>-0.175114</td>\n",
       "      <td>0.069333</td>\n",
       "      <td>0.065120</td>\n",
       "      <td>-0.031125</td>\n",
       "      <td>-0.132631</td>\n",
       "      <td>0.115785</td>\n",
       "      <td>...</td>\n",
       "      <td>282.158400</td>\n",
       "      <td>0.0</td>\n",
       "      <td>-164.931273</td>\n",
       "      <td>0.0</td>\n",
       "      <td>0.000000</td>\n",
       "      <td>0.000000</td>\n",
       "      <td>1.0</td>\n",
       "      <td>-126.367939</td>\n",
       "      <td>2022-03-24 03:10:00</td>\n",
       "      <td>KRW-AERGO</td>\n",
       "    </tr>\n",
       "  </tbody>\n",
       "</table>\n",
       "<p>114242 rows × 120 columns</p>\n",
       "</div>"
      ],
      "text/plain": [
       "            transaction_amount  pct_change_close_5  pct_change_volume_5  \\\n",
       "no_samples                                                                \n",
       "0                     1.583719           -0.671582             1.074611   \n",
       "1                     5.069833           -0.882808             2.927479   \n",
       "2                     2.167141           -0.882808             4.653699   \n",
       "3                     0.789071           -1.324211             1.873330   \n",
       "4                     0.985290           -0.891940             0.072873   \n",
       "...                        ...                 ...                  ...   \n",
       "114237               -0.737605            0.665903            -0.410824   \n",
       "114238                0.262141            1.111911            -0.324732   \n",
       "114239                0.136584            1.111911             0.050100   \n",
       "114240               -0.790537            1.108770            -0.537772   \n",
       "114241               -1.074628            1.557918            -0.501983   \n",
       "\n",
       "             std_close_5  std_volume_5  kyle_lambda_5  amihud_lambda5  \\\n",
       "no_samples                                                              \n",
       "0           4.169852e-01      0.349973      -0.500815       -0.489368   \n",
       "1           3.012122e-01      3.271687      -0.602444       -0.604145   \n",
       "2           0.000000e+00      2.623314      -0.602444       -0.604145   \n",
       "3          -6.987878e-01      2.112428      -0.456126       -0.457831   \n",
       "4           0.000000e+00      2.408204      -0.466376       -0.463910   \n",
       "...                  ...           ...            ...             ...   \n",
       "114237     -6.845459e-01      0.100917      -0.069333       -0.065120   \n",
       "114238      6.233863e-14     -0.366503       0.115189        0.118005   \n",
       "114239     -6.233863e-14     -0.354340       0.115189        0.118005   \n",
       "114240      7.190837e-01     -0.337080       0.369175        0.365852   \n",
       "114241     -3.742948e-13     -0.175114       0.069333        0.065120   \n",
       "\n",
       "            hasbrouck_lambda5  bekker_parkinson_vol5  \\\n",
       "no_samples                                             \n",
       "0                   -0.166967               0.885614   \n",
       "1                   -0.460954               1.008918   \n",
       "2                   -0.460954               1.557573   \n",
       "3                   -0.245993              -0.421921   \n",
       "4                   -0.342255               0.820013   \n",
       "...                       ...                    ...   \n",
       "114237              -0.126212              -0.493738   \n",
       "114238               0.249764               0.001630   \n",
       "114239               0.249764               1.527676   \n",
       "114240               0.451534              -0.001382   \n",
       "114241              -0.031125              -0.132631   \n",
       "\n",
       "            corwin_schultz_estimator5  ...  trend_psar_up  \\\n",
       "no_samples                             ...                  \n",
       "0                           -0.246763  ...       1.002131   \n",
       "1                           -0.371398  ...       0.000000   \n",
       "2                           -0.371398  ...       0.000000   \n",
       "3                            1.811056  ...       0.000000   \n",
       "4                           -0.371398  ...       0.000000   \n",
       "...                               ...  ...            ...   \n",
       "114237                       1.021734  ...       0.000000   \n",
       "114238                      -0.009214  ...       0.000000   \n",
       "114239                      -0.391519  ...     282.000000   \n",
       "114240                      -0.009340  ...     282.080000   \n",
       "114241                       0.115785  ...     282.158400   \n",
       "\n",
       "            trend_psar_up_indicator  trend_psar_down  \\\n",
       "no_samples                                             \n",
       "0                               0.0        -0.496910   \n",
       "1                               0.0         1.100409   \n",
       "2                               0.0         0.974353   \n",
       "3                               0.0         0.850817   \n",
       "4                               0.0         0.729752   \n",
       "...                             ...              ...   \n",
       "114237                          0.0        -0.430487   \n",
       "114238                          0.0        -0.515772   \n",
       "114239                          0.0      -164.931273   \n",
       "114240                          0.0      -164.931273   \n",
       "114241                          0.0      -164.931273   \n",
       "\n",
       "            trend_psar_down_indicator  daily_return  daily_log_return  \\\n",
       "no_samples                                                              \n",
       "0                                 0.0      0.000000          0.000000   \n",
       "1                                 0.0      0.501504          0.500644   \n",
       "2                                 0.0      0.000000          0.000000   \n",
       "3                                 0.0     -0.499780         -0.500644   \n",
       "4                                 0.0     -1.003007         -1.006488   \n",
       "...                               ...           ...               ...   \n",
       "114237                            0.0      0.802827          0.802256   \n",
       "114238                            0.0      0.800000          0.799436   \n",
       "114239                            0.0      0.000000          0.000000   \n",
       "114240                            0.0      0.797193          0.796636   \n",
       "114241                            0.0      0.000000          0.000000   \n",
       "\n",
       "            cumlative_return  daily_maximum_return                time  \\\n",
       "no_samples                                                               \n",
       "0                       -1.5              1.022340 2021-03-20 16:20:00   \n",
       "1                        0.0              0.001723 2021-03-20 16:30:00   \n",
       "2                        0.0              0.499569 2021-03-20 16:40:00   \n",
       "3                       -0.8              0.000000 2021-03-20 16:50:00   \n",
       "4                       -2.4             -0.499569 2021-03-20 17:00:00   \n",
       "...                      ...                   ...                 ...   \n",
       "114237                   0.0              0.446530 2022-03-24 02:30:00   \n",
       "114238                   0.5              0.000000 2022-03-24 02:40:00   \n",
       "114239                   0.5             -0.443396 2022-03-24 02:50:00   \n",
       "114240                   1.0             -0.443396 2022-03-24 03:00:00   \n",
       "114241                   1.0           -126.367939 2022-03-24 03:10:00   \n",
       "\n",
       "               ticker  \n",
       "no_samples             \n",
       "0             KRW-ADA  \n",
       "1             KRW-ADA  \n",
       "2             KRW-ADA  \n",
       "3             KRW-ADA  \n",
       "4             KRW-ADA  \n",
       "...               ...  \n",
       "114237      KRW-AERGO  \n",
       "114238      KRW-AERGO  \n",
       "114239      KRW-AERGO  \n",
       "114240      KRW-AERGO  \n",
       "114241      KRW-AERGO  \n",
       "\n",
       "[114242 rows x 120 columns]"
      ]
     },
     "execution_count": 60,
     "metadata": {},
     "output_type": "execute_result"
    }
   ],
   "source": [
    "grouped = df_roll_data.groupby('no_samples')\n",
    "grouped.last()"
   ]
  },
  {
   "cell_type": "code",
   "execution_count": 62,
   "metadata": {},
   "outputs": [],
   "source": [
    "raw_data = grouped.last().drop(columns=['time', 'ticker'])"
   ]
  },
  {
   "cell_type": "code",
   "execution_count": 64,
   "metadata": {},
   "outputs": [],
   "source": [
    "from sklearn.model_selection import train_test_split\n",
    "X_train, X_test, y_train, y_test = train_test_split(raw_data, df_target, test_size=0.33, random_state=42, shuffle=True)"
   ]
  },
  {
   "cell_type": "code",
   "execution_count": 73,
   "metadata": {},
   "outputs": [],
   "source": [
    "X_train.fillna(method='bfill', inplace=True)\n",
    "X_test.fillna(method='bfill', inplace=True)"
   ]
  },
  {
   "cell_type": "code",
   "execution_count": 74,
   "metadata": {},
   "outputs": [],
   "source": [
    "clf_pi = lgb.LGBMClassifier(objective=\"binary\")\n",
    "clf_pi.fit(X_train, y_train['median'])\n",
    "perm = PermutationImportance(clf_pi, scoring=\"accuracy\", random_state=42).fit(X_test, y_test['median'])"
   ]
  },
  {
   "cell_type": "code",
   "execution_count": 76,
   "metadata": {},
   "outputs": [
    {
     "name": "stdout",
     "output_type": "stream",
     "text": [
      "['trend_psar_down', 'daily_return', 'trend_psar_up', 'cumlative_return', 'trend_wma_5', 'trend_cci', 'daily_maximum_return', 'trend_ema_5', 'volatility_dch', 'daily_log_return', 'volatility_dcl', 'volume_obv', 'trend_stc', 'trend_psar', 'volatility_bbp', 'volume_em', 'volatility_ui', 'std_close_5', 'std_close_10', 'trend_sma_10', 'momentum_uo', 'trend_ichimoku_base', 'volatility_bbh', 'volatility_bbl', 'trend_vortex_ind_pos', 'trend_kst_sig', 'volume_vwap', 'volatility_kch', 'volatility_kcl', 'trend_kst_diff', 'momentum_pvo_signal', 'trend_aroon_down', 'pct_change_close_10', 'trend_ema_20', 'std_close_20', 'trend_trix', 'trend_aroon_up', 'pct_change_close_20', 'pct_change_close_5', 'momentum_stoch_rsi', 'trend_mass_index', 'volume_mfi', 'trend_vortex_ind_diff', 'trend_ichimoku_b', 'momentum_ppo', 'volatility_bbw', 'trend_macd_diff', 'volatility_kcm', 'volatility_dcw', 'momentum_tsi', 'momentum_pvo_hist', 'momentum_ppo_hist', 'volatility_dcm', 'momentum_pvo', 'std_volume_20', 'momentum_stoch_rsi_k', 'trend_ema_10', 'momentum_stoch', 'momentum_ao', 'trend_macd', 'amihud_lambda5', 'trend_ichimoku_a', 'kyle_lambda_10', 'hasbrouck_lambda10', 'trend_sma_5', 'trend_dpo', 'volume_sma_em', 'amihud_lambda20', 'volume_cmf', 'volatility_dcp', 'trend_wma_10', 'trend_wma_20', 'volume_fi', 'amihud_lambda10', 'trend_macd_signal', 'volatility_kcw', 'pct_change_volume_10', 'bekker_parkinson_vol10', 'kyle_lambda_5', 'momentum_stoch_rsi_d', 'volatility_kcp', 'corwin_schultz_estimator5', 'trend_aroon_ind', 'volume_vpt', 'bekker_parkinson_vol20']\n"
     ]
    }
   ],
   "source": [
    "features_pi = eli5.explain_weights_df(perm, feature_names=X_test.columns.tolist())\n",
    "features_pi = features_pi[features_pi[\"weight\"] > 0][\"feature\"].values.tolist()\n"
   ]
  },
  {
   "cell_type": "code",
   "execution_count": 79,
   "metadata": {},
   "outputs": [
    {
     "name": "stdout",
     "output_type": "stream",
     "text": [
      "85 ['trend_psar_down', 'daily_return', 'trend_psar_up', 'cumlative_return', 'trend_wma_5', 'trend_cci', 'daily_maximum_return', 'trend_ema_5', 'volatility_dch', 'daily_log_return', 'volatility_dcl', 'volume_obv', 'trend_stc', 'trend_psar', 'volatility_bbp', 'volume_em', 'volatility_ui', 'std_close_5', 'std_close_10', 'trend_sma_10', 'momentum_uo', 'trend_ichimoku_base', 'volatility_bbh', 'volatility_bbl', 'trend_vortex_ind_pos', 'trend_kst_sig', 'volume_vwap', 'volatility_kch', 'volatility_kcl', 'trend_kst_diff', 'momentum_pvo_signal', 'trend_aroon_down', 'pct_change_close_10', 'trend_ema_20', 'std_close_20', 'trend_trix', 'trend_aroon_up', 'pct_change_close_20', 'pct_change_close_5', 'momentum_stoch_rsi', 'trend_mass_index', 'volume_mfi', 'trend_vortex_ind_diff', 'trend_ichimoku_b', 'momentum_ppo', 'volatility_bbw', 'trend_macd_diff', 'volatility_kcm', 'volatility_dcw', 'momentum_tsi', 'momentum_pvo_hist', 'momentum_ppo_hist', 'volatility_dcm', 'momentum_pvo', 'std_volume_20', 'momentum_stoch_rsi_k', 'trend_ema_10', 'momentum_stoch', 'momentum_ao', 'trend_macd', 'amihud_lambda5', 'trend_ichimoku_a', 'kyle_lambda_10', 'hasbrouck_lambda10', 'trend_sma_5', 'trend_dpo', 'volume_sma_em', 'amihud_lambda20', 'volume_cmf', 'volatility_dcp', 'trend_wma_10', 'trend_wma_20', 'volume_fi', 'amihud_lambda10', 'trend_macd_signal', 'volatility_kcw', 'pct_change_volume_10', 'bekker_parkinson_vol10', 'kyle_lambda_5', 'momentum_stoch_rsi_d', 'volatility_kcp', 'corwin_schultz_estimator5', 'trend_aroon_ind', 'volume_vpt', 'bekker_parkinson_vol20']\n"
     ]
    }
   ],
   "source": [
    "print(len(features_pi), features_pi)"
   ]
  },
  {
   "cell_type": "code",
   "execution_count": 80,
   "metadata": {},
   "outputs": [
    {
     "data": {
      "text/html": [
       "<div>\n",
       "<style scoped>\n",
       "    .dataframe tbody tr th:only-of-type {\n",
       "        vertical-align: middle;\n",
       "    }\n",
       "\n",
       "    .dataframe tbody tr th {\n",
       "        vertical-align: top;\n",
       "    }\n",
       "\n",
       "    .dataframe thead th {\n",
       "        text-align: right;\n",
       "    }\n",
       "</style>\n",
       "<table border=\"1\" class=\"dataframe\">\n",
       "  <thead>\n",
       "    <tr style=\"text-align: right;\">\n",
       "      <th></th>\n",
       "      <th>accuracy</th>\n",
       "      <th>precision</th>\n",
       "      <th>recall</th>\n",
       "      <th>f1</th>\n",
       "      <th>roc</th>\n",
       "    </tr>\n",
       "  </thead>\n",
       "  <tbody>\n",
       "    <tr>\n",
       "      <th>train</th>\n",
       "      <td>0.794936</td>\n",
       "      <td>0.790442</td>\n",
       "      <td>0.744263</td>\n",
       "      <td>0.766658</td>\n",
       "      <td>0.790551</td>\n",
       "    </tr>\n",
       "    <tr>\n",
       "      <th>test</th>\n",
       "      <td>0.764615</td>\n",
       "      <td>0.754257</td>\n",
       "      <td>0.710225</td>\n",
       "      <td>0.731579</td>\n",
       "      <td>0.759819</td>\n",
       "    </tr>\n",
       "  </tbody>\n",
       "</table>\n",
       "</div>"
      ],
      "text/plain": [
       "       accuracy  precision    recall        f1       roc\n",
       "train  0.794936   0.790442  0.744263  0.766658  0.790551\n",
       "test   0.764615   0.754257  0.710225  0.731579  0.759819"
      ]
     },
     "execution_count": 80,
     "metadata": {},
     "output_type": "execute_result"
    }
   ],
   "source": [
    "clf_pi = lgb.LGBMClassifier(objective=\"binary\")\n",
    "clf_pi.fit(X_train[features_pi], y_train['median'])\n",
    "\n",
    "result_dataframe(clf_pi, X_train[features_pi], X_test[features_pi], y_train['median'], y_test['median'], features=features_pi)"
   ]
  },
  {
   "cell_type": "code",
   "execution_count": 81,
   "metadata": {},
   "outputs": [
    {
     "data": {
      "text/plain": [
       "<AxesSubplot:title={'center':'Feature importance'}, xlabel='Feature importance', ylabel='Features'>"
      ]
     },
     "execution_count": 81,
     "metadata": {},
     "output_type": "execute_result"
    },
    {
     "data": {
      "image/png": "[encoded data removed]",
      "text/plain": [
       "<Figure size 720x1080 with 1 Axes>"
      ]
     },
     "metadata": {
      "needs_background": "light"
     },
     "output_type": "display_data"
    }
   ],
   "source": [
    "import matplotlib.pyplot as plt\n",
    "fig, ax = plt.subplots(figsize=(10, 15))\n",
    "plot_importance(clf_pi, ax=ax)"
   ]
  },
  {
   "cell_type": "code",
   "execution_count": 85,
   "metadata": {},
   "outputs": [
    {
     "data": {
      "text/plain": [
       "LGBMClassifier()"
      ]
     },
     "execution_count": 85,
     "metadata": {},
     "output_type": "execute_result"
    }
   ],
   "source": [
    "lgb.LGBMClassifier()"
   ]
  },
  {
   "cell_type": "code",
   "execution_count": null,
   "metadata": {},
   "outputs": [],
   "source": []
  }
 ],
 "metadata": {
  "kernelspec": {
   "display_name": "Python 3.9.13 ('DAT_RLProject')",
   "language": "python",
   "name": "python3"
  },
  "language_info": {
   "codemirror_mode": {
    "name": "ipython",
    "version": 3
   },
   "file_extension": ".py",
   "mimetype": "text/x-python",
   "name": "python",
   "nbconvert_exporter": "python",
   "pygments_lexer": "ipython3",
   "version": "3.9.13"
  },
  "orig_nbformat": 4,
  "vscode": {
   "interpreter": {
    "hash": "3e9ce3fa215d2412c9d8b2346acc73fcde210eb7a2b0085a6f89e49c2eb4aa38"
   }
  }
 },
 "nbformat": 4,
 "nbformat_minor": 2
}
